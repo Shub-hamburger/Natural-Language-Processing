{
 "cells": [
  {
   "cell_type": "markdown",
   "metadata": {},
   "source": [
    "# Information extraction using RegEx"
   ]
  },
  {
   "cell_type": "markdown",
   "metadata": {},
   "source": [
    "We have a messy medical data and using regex let's extract relevant infromation from the data. \n",
    "\n",
    "Each line of the `dates.txt` file corresponds to a medical note. Each note has a date that needs to be extracted, but each date is encoded in one of many formats.\n",
    "\n",
    "The goal is to correctly identify all of the different date variants encoded in this dataset and to properly normalize and sort the dates. \n",
    "\n",
    "Here is a list of some of the variants that one might encounter in this dataset:\n",
    "* 04/20/2009; 04/20/09; 4/20/09; 4/3/09\n",
    "* Mar-20-2009; Mar 20, 2009; March 20, 2009;  Mar. 20, 2009; Mar 20 2009;\n",
    "* 20 Mar 2009; 20 March 2009; 20 Mar. 2009; 20 March, 2009\n",
    "* Mar 20th, 2009; Mar 21st, 2009; Mar 22nd, 2009\n",
    "* Feb 2009; Sep 2009; Oct 2010\n",
    "* 6/2008; 12/2009\n",
    "* 2009; 2010\n",
    "\n",
    "Once these date patterns have been extracted from the text, the next step is to sort them in ascending chronological order accoring to the following rules:\n",
    "* Assume all dates in xx/xx/xx format are mm/dd/yy\n",
    "* Assume all dates where year is encoded in only two digits are years from the 1900's (e.g. 1/5/89 is January 5th, 1989)\n",
    "* If the day is missing (e.g. 9/2009), assume it is the first day of the month (e.g. September 1, 2009).\n",
    "* If the month is missing (e.g. 2010), assume it is the first of January of that year (e.g. January 1, 2010).\n",
    "* Also we need to watch out for potential typos as this is a raw, real-life derived dataset."
   ]
  },
  {
   "cell_type": "code",
   "execution_count": 1,
   "metadata": {},
   "outputs": [
    {
     "data": {
      "text/plain": [
       "0         03/25/93 Total time of visit (in minutes):\\n\n",
       "1                       6/18/85 Primary Care Doctor:\\n\n",
       "2    sshe plans to move as of 7/8/71 In-Home Servic...\n",
       "3                7 on 9/27/75 Audit C Score Current:\\n\n",
       "4    2/6/96 sleep studyPain Treatment Pain Level (N...\n",
       "5                    .Per 7/06/79 Movement D/O note:\\n\n",
       "6    4, 5/18/78 Patient's thoughts about current su...\n",
       "7    10/24/89 CPT Code: 90801 - Psychiatric Diagnos...\n",
       "8                         3/7/86 SOS-10 Total Score:\\n\n",
       "9             (4/10/71)Score-1Audit C Score Current:\\n\n",
       "dtype: object"
      ]
     },
     "execution_count": 1,
     "metadata": {},
     "output_type": "execute_result"
    }
   ],
   "source": [
    "import pandas as pd\n",
    "\n",
    "doc = []\n",
    "with open('dates.txt') as file:\n",
    "    for line in file:\n",
    "        doc.append(line)\n",
    "\n",
    "df = pd.Series(doc)\n",
    "df.head(10)"
   ]
  },
  {
   "cell_type": "code",
   "execution_count": 3,
   "metadata": {},
   "outputs": [
    {
     "data": {
      "text/plain": [
       "<bound method IndexOpsMixin.item of 9     1971-04-10\n",
       "84    1971-05-18\n",
       "2     1971-07-08\n",
       "53    1971-07-11\n",
       "28    1971-09-12\n",
       "474   1972-01-01\n",
       "153   1972-01-13\n",
       "13    1972-01-26\n",
       "129   1972-05-06\n",
       "98    1972-05-13\n",
       "111   1972-06-10\n",
       "225   1972-06-15\n",
       "31    1972-07-20\n",
       "171   1972-10-04\n",
       "191   1972-11-30\n",
       "486   1973-01-01\n",
       "335   1973-02-01\n",
       "415   1973-02-01\n",
       "36    1973-02-14\n",
       "405   1973-03-01\n",
       "323   1973-03-01\n",
       "422   1973-04-01\n",
       "375   1973-06-01\n",
       "380   1973-07-01\n",
       "345   1973-10-01\n",
       "57    1973-12-01\n",
       "481   1974-01-01\n",
       "436   1974-02-01\n",
       "104   1974-02-24\n",
       "299   1974-03-01\n",
       "         ...    \n",
       "220   2012-06-25\n",
       "208   2012-09-01\n",
       "243   2012-09-01\n",
       "139   2012-10-21\n",
       "320   2012-11-01\n",
       "383   2012-12-01\n",
       "244   2013-01-01\n",
       "286   2013-01-01\n",
       "480   2013-01-01\n",
       "431   2013-04-01\n",
       "279   2013-09-01\n",
       "198   2013-10-11\n",
       "381   2014-01-01\n",
       "463   2014-01-01\n",
       "366   2014-07-01\n",
       "439   2014-10-01\n",
       "255   2014-10-01\n",
       "401   2014-12-01\n",
       "475   2015-01-01\n",
       "257   2015-09-01\n",
       "152   2015-09-28\n",
       "235   2015-10-01\n",
       "464   2016-01-01\n",
       "253   2016-02-01\n",
       "427   2016-05-01\n",
       "231   2016-05-01\n",
       "141   2016-05-30\n",
       "186   2016-10-13\n",
       "161   2016-10-19\n",
       "413   2016-11-01\n",
       "Name: 0, Length: 500, dtype: datetime64[ns]>"
      ]
     },
     "execution_count": 3,
     "metadata": {},
     "output_type": "execute_result"
    }
   ],
   "source": [
    "import warnings\n",
    "warnings.filterwarnings('ignore')\n",
    "def date_sorter():\n",
    "    # Regex for different date formats\n",
    "    reg1 = '(\\d{1,2}[/-]\\d{1,2}[/-]\\d{2,4})'\n",
    "    reg2 = '((?:Jan|Feb|Mar|Apr|May|Jun|Jul|Aug|Sep|Oct|Nov|Dec)[\\S]*[+\\s]\\d{1,2}[,]{0,1}[+\\s]\\d{4})'\n",
    "    reg3 = '(\\d{1,2}[+\\s](?:Jan|Feb|Mar|Apr|May|Jun|Jul|Aug|Sep|Oct|Nov|Dec)[\\S]*[+\\s]\\d{4})'\n",
    "    reg4 = '((?:Jan|Feb|Mar|Apr|May|Jun|Jul|Aug|Sep|Oct|Nov|Dec)[\\S]*[+\\s]\\d{4})'\n",
    "    reg5 = '(\\d{1,2}[/-][1|2]\\d{3})'\n",
    "    reg6 = '([1|2]\\d{3})'\n",
    "    complete_reg = '(%s|%s|%s|%s|%s|%s)' %(reg1, reg2, reg3, reg4, reg5, reg6)\n",
    "    # Extracting date from the corpus.\n",
    "    date = df.str.extract(complete_reg)\n",
    "    # Handling typo\n",
    "    date = date.iloc[:,0].str.replace('Janaury', 'January').str.replace('Decemeber', 'December')\n",
    "    # Converting to date-time format\n",
    "    date = pd.Series(pd.to_datetime(date))\n",
    "    # Sorting\n",
    "    date = date.sort_values(ascending=True).item\n",
    "    return date\n",
    "date_sorter()"
   ]
  }
 ],
 "metadata": {
  "coursera": {
   "course_slug": "python-text-mining",
   "graded_item_id": "LvcWI",
   "launcher_item_id": "krne9",
   "part_id": "Mkp1I"
  },
  "kernelspec": {
   "display_name": "Python 3",
   "language": "python",
   "name": "python3"
  },
  "language_info": {
   "codemirror_mode": {
    "name": "ipython",
    "version": 3
   },
   "file_extension": ".py",
   "mimetype": "text/x-python",
   "name": "python",
   "nbconvert_exporter": "python",
   "pygments_lexer": "ipython3",
   "version": "3.6.2"
  }
 },
 "nbformat": 4,
 "nbformat_minor": 2
}
